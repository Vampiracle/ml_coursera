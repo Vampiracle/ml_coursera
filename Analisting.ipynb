{
 "cells": [
  {
   "cell_type": "code",
   "execution_count": 1,
   "metadata": {},
   "outputs": [
    {
     "name": "stdout",
     "output_type": "stream",
     "text": [
      "Requirement already satisfied: sklearn in c:\\users\\2017\\appdata\\local\\programs\\python\\python36\\lib\\site-packages (0.0)\n",
      "Requirement already satisfied: scikit-learn in c:\\users\\2017\\appdata\\local\\programs\\python\\python36\\lib\\site-packages (from sklearn) (0.23.1)\n",
      "Requirement already satisfied: numpy>=1.13.3 in c:\\users\\2017\\appdata\\local\\programs\\python\\python36\\lib\\site-packages (from scikit-learn->sklearn) (1.18.4)\n",
      "Requirement already satisfied: threadpoolctl>=2.0.0 in c:\\users\\2017\\appdata\\local\\programs\\python\\python36\\lib\\site-packages (from scikit-learn->sklearn) (2.1.0)\n",
      "Requirement already satisfied: scipy>=0.19.1 in c:\\users\\2017\\appdata\\local\\programs\\python\\python36\\lib\\site-packages (from scikit-learn->sklearn) (1.5.0)\n",
      "Requirement already satisfied: joblib>=0.11 in c:\\users\\2017\\appdata\\local\\programs\\python\\python36\\lib\\site-packages (from scikit-learn->sklearn) (0.15.1)\n",
      "Could not build wheels for sklearn, since package 'wheel' is not installed.\n",
      "Could not build wheels for scikit-learn, since package 'wheel' is not installed.\n",
      "Could not build wheels for numpy, since package 'wheel' is not installed.\n",
      "Could not build wheels for threadpoolctl, since package 'wheel' is not installed.\n",
      "Could not build wheels for scipy, since package 'wheel' is not installed.\n",
      "Could not build wheels for joblib, since package 'wheel' is not installed.\n",
      "Note: you may need to restart the kernel to use updated packages.\n"
     ]
    },
    {
     "name": "stderr",
     "output_type": "stream",
     "text": [
      "WARNING: You are using pip version 20.1; however, version 20.1.1 is available.\n",
      "You should consider upgrading via the 'c:\\users\\2017\\appdata\\local\\programs\\python\\python36\\python.exe -m pip install --upgrade pip' command.\n"
     ]
    }
   ],
   "source": [
    "pip install sklearn"
   ]
  },
  {
   "cell_type": "code",
   "execution_count": 2,
   "metadata": {},
   "outputs": [],
   "source": [
    "import pandas as pd"
   ]
  },
  {
   "cell_type": "code",
   "execution_count": 3,
   "metadata": {},
   "outputs": [],
   "source": [
    "data = pd.read_csv('titanic.csv', index_col='PassengerId')"
   ]
  },
  {
   "cell_type": "code",
   "execution_count": 4,
   "metadata": {},
   "outputs": [
    {
     "name": "stdout",
     "output_type": "stream",
     "text": [
      "             Survived  Pclass  \\\n",
      "PassengerId                     \n",
      "1                   0       3   \n",
      "2                   1       1   \n",
      "3                   1       3   \n",
      "4                   1       1   \n",
      "5                   0       3   \n",
      "6                   0       3   \n",
      "7                   0       1   \n",
      "8                   0       3   \n",
      "9                   1       3   \n",
      "10                  1       2   \n",
      "11                  1       3   \n",
      "12                  1       1   \n",
      "13                  0       3   \n",
      "14                  0       3   \n",
      "15                  0       3   \n",
      "16                  1       2   \n",
      "17                  0       3   \n",
      "18                  1       2   \n",
      "19                  0       3   \n",
      "20                  1       3   \n",
      "21                  0       2   \n",
      "22                  1       2   \n",
      "23                  1       3   \n",
      "24                  1       1   \n",
      "25                  0       3   \n",
      "26                  1       3   \n",
      "27                  0       3   \n",
      "28                  0       1   \n",
      "29                  1       3   \n",
      "30                  0       3   \n",
      "31                  0       1   \n",
      "32                  1       1   \n",
      "33                  1       3   \n",
      "34                  0       2   \n",
      "35                  0       1   \n",
      "36                  0       1   \n",
      "37                  1       3   \n",
      "38                  0       3   \n",
      "39                  0       3   \n",
      "40                  1       3   \n",
      "41                  0       3   \n",
      "42                  0       2   \n",
      "43                  0       3   \n",
      "44                  1       2   \n",
      "45                  1       3   \n",
      "46                  0       3   \n",
      "47                  0       3   \n",
      "48                  1       3   \n",
      "49                  0       3   \n",
      "50                  0       3   \n",
      "\n",
      "                                                          Name     Sex   Age  \\\n",
      "PassengerId                                                                    \n",
      "1                                      Braund, Mr. Owen Harris    male  22.0   \n",
      "2            Cumings, Mrs. John Bradley (Florence Briggs Th...  female  38.0   \n",
      "3                                       Heikkinen, Miss. Laina  female  26.0   \n",
      "4                 Futrelle, Mrs. Jacques Heath (Lily May Peel)  female  35.0   \n",
      "5                                     Allen, Mr. William Henry    male  35.0   \n",
      "6                                             Moran, Mr. James    male   NaN   \n",
      "7                                      McCarthy, Mr. Timothy J    male  54.0   \n",
      "8                               Palsson, Master. Gosta Leonard    male   2.0   \n",
      "9            Johnson, Mrs. Oscar W (Elisabeth Vilhelmina Berg)  female  27.0   \n",
      "10                         Nasser, Mrs. Nicholas (Adele Achem)  female  14.0   \n",
      "11                             Sandstrom, Miss. Marguerite Rut  female   4.0   \n",
      "12                                    Bonnell, Miss. Elizabeth  female  58.0   \n",
      "13                              Saundercock, Mr. William Henry    male  20.0   \n",
      "14                                 Andersson, Mr. Anders Johan    male  39.0   \n",
      "15                        Vestrom, Miss. Hulda Amanda Adolfina  female  14.0   \n",
      "16                            Hewlett, Mrs. (Mary D Kingcome)   female  55.0   \n",
      "17                                        Rice, Master. Eugene    male   2.0   \n",
      "18                                Williams, Mr. Charles Eugene    male   NaN   \n",
      "19           Vander Planke, Mrs. Julius (Emelia Maria Vande...  female  31.0   \n",
      "20                                     Masselmani, Mrs. Fatima  female   NaN   \n",
      "21                                        Fynney, Mr. Joseph J    male  35.0   \n",
      "22                                       Beesley, Mr. Lawrence    male  34.0   \n",
      "23                                 McGowan, Miss. Anna \"Annie\"  female  15.0   \n",
      "24                                Sloper, Mr. William Thompson    male  28.0   \n",
      "25                               Palsson, Miss. Torborg Danira  female   8.0   \n",
      "26           Asplund, Mrs. Carl Oscar (Selma Augusta Emilia...  female  38.0   \n",
      "27                                     Emir, Mr. Farred Chehab    male   NaN   \n",
      "28                              Fortune, Mr. Charles Alexander    male  19.0   \n",
      "29                               O'Dwyer, Miss. Ellen \"Nellie\"  female   NaN   \n",
      "30                                         Todoroff, Mr. Lalio    male   NaN   \n",
      "31                                    Uruchurtu, Don. Manuel E    male  40.0   \n",
      "32              Spencer, Mrs. William Augustus (Marie Eugenie)  female   NaN   \n",
      "33                                    Glynn, Miss. Mary Agatha  female   NaN   \n",
      "34                                       Wheadon, Mr. Edward H    male  66.0   \n",
      "35                                     Meyer, Mr. Edgar Joseph    male  28.0   \n",
      "36                              Holverson, Mr. Alexander Oskar    male  42.0   \n",
      "37                                            Mamee, Mr. Hanna    male   NaN   \n",
      "38                                    Cann, Mr. Ernest Charles    male  21.0   \n",
      "39                          Vander Planke, Miss. Augusta Maria  female  18.0   \n",
      "40                                 Nicola-Yarred, Miss. Jamila  female  14.0   \n",
      "41              Ahlin, Mrs. Johan (Johanna Persdotter Larsson)  female  40.0   \n",
      "42           Turpin, Mrs. William John Robert (Dorothy Ann ...  female  27.0   \n",
      "43                                         Kraeff, Mr. Theodor    male   NaN   \n",
      "44                    Laroche, Miss. Simonne Marie Anne Andree  female   3.0   \n",
      "45                               Devaney, Miss. Margaret Delia  female  19.0   \n",
      "46                                    Rogers, Mr. William John    male   NaN   \n",
      "47                                           Lennon, Mr. Denis    male   NaN   \n",
      "48                                   O'Driscoll, Miss. Bridget  female   NaN   \n",
      "49                                         Samaan, Mr. Youssef    male   NaN   \n",
      "50               Arnold-Franchi, Mrs. Josef (Josefine Franchi)  female  18.0   \n",
      "\n",
      "             SibSp  Parch            Ticket      Fare        Cabin Embarked  \n",
      "PassengerId                                                                  \n",
      "1                1      0         A/5 21171    7.2500          NaN        S  \n",
      "2                1      0          PC 17599   71.2833          C85        C  \n",
      "3                0      0  STON/O2. 3101282    7.9250          NaN        S  \n",
      "4                1      0            113803   53.1000         C123        S  \n",
      "5                0      0            373450    8.0500          NaN        S  \n",
      "6                0      0            330877    8.4583          NaN        Q  \n",
      "7                0      0             17463   51.8625          E46        S  \n",
      "8                3      1            349909   21.0750          NaN        S  \n",
      "9                0      2            347742   11.1333          NaN        S  \n",
      "10               1      0            237736   30.0708          NaN        C  \n",
      "11               1      1           PP 9549   16.7000           G6        S  \n",
      "12               0      0            113783   26.5500         C103        S  \n",
      "13               0      0         A/5. 2151    8.0500          NaN        S  \n",
      "14               1      5            347082   31.2750          NaN        S  \n",
      "15               0      0            350406    7.8542          NaN        S  \n",
      "16               0      0            248706   16.0000          NaN        S  \n",
      "17               4      1            382652   29.1250          NaN        Q  \n",
      "18               0      0            244373   13.0000          NaN        S  \n",
      "19               1      0            345763   18.0000          NaN        S  \n",
      "20               0      0              2649    7.2250          NaN        C  \n",
      "21               0      0            239865   26.0000          NaN        S  \n",
      "22               0      0            248698   13.0000          D56        S  \n",
      "23               0      0            330923    8.0292          NaN        Q  \n",
      "24               0      0            113788   35.5000           A6        S  \n",
      "25               3      1            349909   21.0750          NaN        S  \n",
      "26               1      5            347077   31.3875          NaN        S  \n",
      "27               0      0              2631    7.2250          NaN        C  \n",
      "28               3      2             19950  263.0000  C23 C25 C27        S  \n",
      "29               0      0            330959    7.8792          NaN        Q  \n",
      "30               0      0            349216    7.8958          NaN        S  \n",
      "31               0      0          PC 17601   27.7208          NaN        C  \n",
      "32               1      0          PC 17569  146.5208          B78        C  \n",
      "33               0      0            335677    7.7500          NaN        Q  \n",
      "34               0      0        C.A. 24579   10.5000          NaN        S  \n",
      "35               1      0          PC 17604   82.1708          NaN        C  \n",
      "36               1      0            113789   52.0000          NaN        S  \n",
      "37               0      0              2677    7.2292          NaN        C  \n",
      "38               0      0        A./5. 2152    8.0500          NaN        S  \n",
      "39               2      0            345764   18.0000          NaN        S  \n",
      "40               1      0              2651   11.2417          NaN        C  \n",
      "41               1      0              7546    9.4750          NaN        S  \n",
      "42               1      0             11668   21.0000          NaN        S  \n",
      "43               0      0            349253    7.8958          NaN        C  \n",
      "44               1      2     SC/Paris 2123   41.5792          NaN        C  \n",
      "45               0      0            330958    7.8792          NaN        Q  \n",
      "46               0      0   S.C./A.4. 23567    8.0500          NaN        S  \n",
      "47               1      0            370371   15.5000          NaN        Q  \n",
      "48               0      0             14311    7.7500          NaN        Q  \n",
      "49               2      0              2662   21.6792          NaN        C  \n",
      "50               1      0            349237   17.8000          NaN        S  \n"
     ]
    }
   ],
   "source": [
    "print(data[:50:])"
   ]
  },
  {
   "cell_type": "code",
   "execution_count": 5,
   "metadata": {},
   "outputs": [
    {
     "data": {
      "text/plain": [
       "male      577\n",
       "female    314\n",
       "Name: Sex, dtype: int64"
      ]
     },
     "execution_count": 5,
     "metadata": {},
     "output_type": "execute_result"
    }
   ],
   "source": [
    "data[\"Sex\"].value_counts()"
   ]
  },
  {
   "cell_type": "code",
   "execution_count": 6,
   "metadata": {},
   "outputs": [
    {
     "name": "stdout",
     "output_type": "stream",
     "text": [
      "0.3838383838383838\n"
     ]
    }
   ],
   "source": [
    "a = data[\"Survived\"].value_counts()\n",
    "print(a[1]/(a[0]+a[1]))"
   ]
  },
  {
   "cell_type": "code",
   "execution_count": 7,
   "metadata": {},
   "outputs": [
    {
     "data": {
      "text/plain": [
       "3    491\n",
       "1    216\n",
       "2    184\n",
       "Name: Pclass, dtype: int64"
      ]
     },
     "execution_count": 7,
     "metadata": {},
     "output_type": "execute_result"
    }
   ],
   "source": [
    "fclass = data[\"Pclass\"].value_counts()\n",
    "fclass"
   ]
  },
  {
   "cell_type": "code",
   "execution_count": 8,
   "metadata": {},
   "outputs": [
    {
     "name": "stdout",
     "output_type": "stream",
     "text": [
      "0.24242424242424243\n"
     ]
    }
   ],
   "source": [
    "print(fclass[1]/sum(fclass))"
   ]
  },
  {
   "cell_type": "code",
   "execution_count": 9,
   "metadata": {},
   "outputs": [
    {
     "name": "stdout",
     "output_type": "stream",
     "text": [
      "29.69911764705882\n",
      "28.0\n"
     ]
    }
   ],
   "source": [
    "ages = data[\"Age\"].describe()\n",
    "print(ages[\"mean\"])\n",
    "print(ages[\"50%\"])\n",
    "#ages.describe()"
   ]
  },
  {
   "cell_type": "code",
   "execution_count": 10,
   "metadata": {},
   "outputs": [
    {
     "name": "stdout",
     "output_type": "stream",
     "text": [
      "0.5230078563411896 0.38159371492704824\n",
      "1\n"
     ]
    }
   ],
   "source": [
    "x1 = data[\"SibSp\"].describe()[\"mean\"]\n",
    "y1 = data[\"Parch\"].describe()[\"mean\"]\n",
    "print(x1, y1)\n",
    "sum1 = 0\n",
    "sum2 = 0\n",
    "sum3 = 0\n",
    "data1 = data[\"SibSp\"]\n",
    "data2 = data[\"Parch\"]\n",
    "print(data[\"SibSp\"].iloc[3])"
   ]
  },
  {
   "cell_type": "code",
   "execution_count": 11,
   "metadata": {},
   "outputs": [
    {
     "name": "stdout",
     "output_type": "stream",
     "text": [
      "0.41483769862015263\n"
     ]
    }
   ],
   "source": [
    "for i in range(len(data[\"SibSp\"])):\n",
    "    sum1 += (data1.iloc[i]-x1)*(data2.iloc[i]-y1)\n",
    "    sum2 += (data1.iloc[i]-x1)**2\n",
    "    sum3 += (data2.iloc[i]-y1)**2\n",
    "print(sum1/(sum2*sum3)**0.5)"
   ]
  },
  {
   "cell_type": "code",
   "execution_count": 12,
   "metadata": {},
   "outputs": [
    {
     "name": "stdout",
     "output_type": "stream",
     "text": [
      "2\n"
     ]
    }
   ],
   "source": [
    "a = \"34532414345\"\n",
    "print(a.count(\"345\"))\n",
    "    "
   ]
  },
  {
   "cell_type": "code",
   "execution_count": 13,
   "metadata": {},
   "outputs": [
    {
     "data": {
      "text/plain": [
       "2590"
      ]
     },
     "execution_count": 13,
     "metadata": {},
     "output_type": "execute_result"
    }
   ],
   "source": [
    "37*70\n"
   ]
  },
  {
   "cell_type": "code",
   "execution_count": 14,
   "metadata": {},
   "outputs": [],
   "source": [
    "data = data.drop(data.columns[[2,5,6,7,9,10]], axis = \"columns\")"
   ]
  },
  {
   "cell_type": "code",
   "execution_count": 15,
   "metadata": {},
   "outputs": [
    {
     "name": "stderr",
     "output_type": "stream",
     "text": [
      "c:\\users\\2017\\appdata\\local\\programs\\python\\python36\\lib\\site-packages\\pandas\\core\\indexing.py:671: SettingWithCopyWarning: \n",
      "A value is trying to be set on a copy of a slice from a DataFrame\n",
      "\n",
      "See the caveats in the documentation: https://pandas.pydata.org/pandas-docs/stable/user_guide/indexing.html#returning-a-view-versus-a-copy\n",
      "  self._setitem_with_indexer(indexer, value)\n"
     ]
    }
   ],
   "source": [
    "for i in range(len(data[\"Sex\"])):\n",
    "    if data[\"Sex\"].iloc[i] == \"male\":\n",
    "        data[\"Sex\"].iloc[i] = 1\n",
    "    else:\n",
    "        data[\"Sex\"].iloc[i] = 0"
   ]
  },
  {
   "cell_type": "code",
   "execution_count": 16,
   "metadata": {},
   "outputs": [
    {
     "data": {
      "text/html": [
       "<div>\n",
       "<style scoped>\n",
       "    .dataframe tbody tr th:only-of-type {\n",
       "        vertical-align: middle;\n",
       "    }\n",
       "\n",
       "    .dataframe tbody tr th {\n",
       "        vertical-align: top;\n",
       "    }\n",
       "\n",
       "    .dataframe thead th {\n",
       "        text-align: right;\n",
       "    }\n",
       "</style>\n",
       "<table border=\"1\" class=\"dataframe\">\n",
       "  <thead>\n",
       "    <tr style=\"text-align: right;\">\n",
       "      <th></th>\n",
       "      <th>Survived</th>\n",
       "      <th>Pclass</th>\n",
       "      <th>Sex</th>\n",
       "      <th>Age</th>\n",
       "      <th>Fare</th>\n",
       "    </tr>\n",
       "    <tr>\n",
       "      <th>PassengerId</th>\n",
       "      <th></th>\n",
       "      <th></th>\n",
       "      <th></th>\n",
       "      <th></th>\n",
       "      <th></th>\n",
       "    </tr>\n",
       "  </thead>\n",
       "  <tbody>\n",
       "    <tr>\n",
       "      <th>1</th>\n",
       "      <td>0</td>\n",
       "      <td>3</td>\n",
       "      <td>1</td>\n",
       "      <td>22.0</td>\n",
       "      <td>7.2500</td>\n",
       "    </tr>\n",
       "    <tr>\n",
       "      <th>2</th>\n",
       "      <td>1</td>\n",
       "      <td>1</td>\n",
       "      <td>0</td>\n",
       "      <td>38.0</td>\n",
       "      <td>71.2833</td>\n",
       "    </tr>\n",
       "    <tr>\n",
       "      <th>3</th>\n",
       "      <td>1</td>\n",
       "      <td>3</td>\n",
       "      <td>0</td>\n",
       "      <td>26.0</td>\n",
       "      <td>7.9250</td>\n",
       "    </tr>\n",
       "    <tr>\n",
       "      <th>4</th>\n",
       "      <td>1</td>\n",
       "      <td>1</td>\n",
       "      <td>0</td>\n",
       "      <td>35.0</td>\n",
       "      <td>53.1000</td>\n",
       "    </tr>\n",
       "    <tr>\n",
       "      <th>5</th>\n",
       "      <td>0</td>\n",
       "      <td>3</td>\n",
       "      <td>1</td>\n",
       "      <td>35.0</td>\n",
       "      <td>8.0500</td>\n",
       "    </tr>\n",
       "    <tr>\n",
       "      <th>6</th>\n",
       "      <td>0</td>\n",
       "      <td>3</td>\n",
       "      <td>1</td>\n",
       "      <td>NaN</td>\n",
       "      <td>8.4583</td>\n",
       "    </tr>\n",
       "    <tr>\n",
       "      <th>7</th>\n",
       "      <td>0</td>\n",
       "      <td>1</td>\n",
       "      <td>1</td>\n",
       "      <td>54.0</td>\n",
       "      <td>51.8625</td>\n",
       "    </tr>\n",
       "    <tr>\n",
       "      <th>8</th>\n",
       "      <td>0</td>\n",
       "      <td>3</td>\n",
       "      <td>1</td>\n",
       "      <td>2.0</td>\n",
       "      <td>21.0750</td>\n",
       "    </tr>\n",
       "    <tr>\n",
       "      <th>9</th>\n",
       "      <td>1</td>\n",
       "      <td>3</td>\n",
       "      <td>0</td>\n",
       "      <td>27.0</td>\n",
       "      <td>11.1333</td>\n",
       "    </tr>\n",
       "    <tr>\n",
       "      <th>10</th>\n",
       "      <td>1</td>\n",
       "      <td>2</td>\n",
       "      <td>0</td>\n",
       "      <td>14.0</td>\n",
       "      <td>30.0708</td>\n",
       "    </tr>\n",
       "    <tr>\n",
       "      <th>11</th>\n",
       "      <td>1</td>\n",
       "      <td>3</td>\n",
       "      <td>0</td>\n",
       "      <td>4.0</td>\n",
       "      <td>16.7000</td>\n",
       "    </tr>\n",
       "    <tr>\n",
       "      <th>12</th>\n",
       "      <td>1</td>\n",
       "      <td>1</td>\n",
       "      <td>0</td>\n",
       "      <td>58.0</td>\n",
       "      <td>26.5500</td>\n",
       "    </tr>\n",
       "    <tr>\n",
       "      <th>13</th>\n",
       "      <td>0</td>\n",
       "      <td>3</td>\n",
       "      <td>1</td>\n",
       "      <td>20.0</td>\n",
       "      <td>8.0500</td>\n",
       "    </tr>\n",
       "    <tr>\n",
       "      <th>14</th>\n",
       "      <td>0</td>\n",
       "      <td>3</td>\n",
       "      <td>1</td>\n",
       "      <td>39.0</td>\n",
       "      <td>31.2750</td>\n",
       "    </tr>\n",
       "    <tr>\n",
       "      <th>15</th>\n",
       "      <td>0</td>\n",
       "      <td>3</td>\n",
       "      <td>0</td>\n",
       "      <td>14.0</td>\n",
       "      <td>7.8542</td>\n",
       "    </tr>\n",
       "    <tr>\n",
       "      <th>16</th>\n",
       "      <td>1</td>\n",
       "      <td>2</td>\n",
       "      <td>0</td>\n",
       "      <td>55.0</td>\n",
       "      <td>16.0000</td>\n",
       "    </tr>\n",
       "    <tr>\n",
       "      <th>17</th>\n",
       "      <td>0</td>\n",
       "      <td>3</td>\n",
       "      <td>1</td>\n",
       "      <td>2.0</td>\n",
       "      <td>29.1250</td>\n",
       "    </tr>\n",
       "    <tr>\n",
       "      <th>18</th>\n",
       "      <td>1</td>\n",
       "      <td>2</td>\n",
       "      <td>1</td>\n",
       "      <td>NaN</td>\n",
       "      <td>13.0000</td>\n",
       "    </tr>\n",
       "    <tr>\n",
       "      <th>19</th>\n",
       "      <td>0</td>\n",
       "      <td>3</td>\n",
       "      <td>0</td>\n",
       "      <td>31.0</td>\n",
       "      <td>18.0000</td>\n",
       "    </tr>\n",
       "    <tr>\n",
       "      <th>20</th>\n",
       "      <td>1</td>\n",
       "      <td>3</td>\n",
       "      <td>0</td>\n",
       "      <td>NaN</td>\n",
       "      <td>7.2250</td>\n",
       "    </tr>\n",
       "  </tbody>\n",
       "</table>\n",
       "</div>"
      ],
      "text/plain": [
       "             Survived  Pclass Sex   Age     Fare\n",
       "PassengerId                                     \n",
       "1                   0       3   1  22.0   7.2500\n",
       "2                   1       1   0  38.0  71.2833\n",
       "3                   1       3   0  26.0   7.9250\n",
       "4                   1       1   0  35.0  53.1000\n",
       "5                   0       3   1  35.0   8.0500\n",
       "6                   0       3   1   NaN   8.4583\n",
       "7                   0       1   1  54.0  51.8625\n",
       "8                   0       3   1   2.0  21.0750\n",
       "9                   1       3   0  27.0  11.1333\n",
       "10                  1       2   0  14.0  30.0708\n",
       "11                  1       3   0   4.0  16.7000\n",
       "12                  1       1   0  58.0  26.5500\n",
       "13                  0       3   1  20.0   8.0500\n",
       "14                  0       3   1  39.0  31.2750\n",
       "15                  0       3   0  14.0   7.8542\n",
       "16                  1       2   0  55.0  16.0000\n",
       "17                  0       3   1   2.0  29.1250\n",
       "18                  1       2   1   NaN  13.0000\n",
       "19                  0       3   0  31.0  18.0000\n",
       "20                  1       3   0   NaN   7.2250"
      ]
     },
     "execution_count": 16,
     "metadata": {},
     "output_type": "execute_result"
    }
   ],
   "source": [
    "data[:20:]\n",
    "\n"
   ]
  },
  {
   "cell_type": "code",
   "execution_count": 17,
   "metadata": {},
   "outputs": [],
   "source": [
    "datatrue = data.isna()\n"
   ]
  },
  {
   "cell_type": "code",
   "execution_count": 18,
   "metadata": {},
   "outputs": [],
   "source": [
    "data = data.dropna()[:20:]"
   ]
  },
  {
   "cell_type": "code",
   "execution_count": 19,
   "metadata": {},
   "outputs": [
    {
     "name": "stdout",
     "output_type": "stream",
     "text": [
      "             Pclass Sex   Age     Fare\n",
      "PassengerId                           \n",
      "1                 3   1  22.0   7.2500\n",
      "2                 1   0  38.0  71.2833\n",
      "3                 3   0  26.0   7.9250\n",
      "4                 1   0  35.0  53.1000\n",
      "5                 3   1  35.0   8.0500\n",
      "7                 1   1  54.0  51.8625\n",
      "8                 3   1   2.0  21.0750\n",
      "9                 3   0  27.0  11.1333\n",
      "10                2   0  14.0  30.0708\n",
      "11                3   0   4.0  16.7000\n",
      "12                1   0  58.0  26.5500\n",
      "13                3   1  20.0   8.0500\n",
      "14                3   1  39.0  31.2750\n",
      "15                3   0  14.0   7.8542\n",
      "16                2   0  55.0  16.0000\n",
      "17                3   1   2.0  29.1250\n",
      "19                3   0  31.0  18.0000\n",
      "21                2   1  35.0  26.0000\n",
      "22                2   1  34.0  13.0000\n",
      "23                3   0  15.0   8.0292\n"
     ]
    }
   ],
   "source": [
    "from sklearn import *\n",
    "from sklearn.tree import DecisionTreeClassifier\n",
    "from sklearn.datasets import load_iris\n",
    "from sklearn.tree import DecisionTreeClassifier\n",
    "clf = DecisionTreeClassifier(random_state=241)\n",
    "iris = load_iris()\n",
    "data1 = data.drop(data.columns[[0]], axis = \"columns\")\n",
    "print(data1)"
   ]
  },
  {
   "cell_type": "code",
   "execution_count": 20,
   "metadata": {},
   "outputs": [
    {
     "data": {
      "text/plain": [
       "PassengerId\n",
       "1     0\n",
       "2     1\n",
       "3     1\n",
       "4     1\n",
       "5     0\n",
       "7     0\n",
       "8     0\n",
       "9     1\n",
       "10    1\n",
       "11    1\n",
       "12    1\n",
       "13    0\n",
       "14    0\n",
       "15    0\n",
       "16    1\n",
       "17    0\n",
       "19    0\n",
       "21    0\n",
       "22    1\n",
       "23    1\n",
       "Name: Survived, dtype: int64"
      ]
     },
     "execution_count": 20,
     "metadata": {},
     "output_type": "execute_result"
    }
   ],
   "source": [
    "data2 = data[\"Survived\"]\n",
    "data2"
   ]
  },
  {
   "cell_type": "code",
   "execution_count": 21,
   "metadata": {},
   "outputs": [
    {
     "data": {
      "text/plain": [
       "DecisionTreeClassifier(random_state=241)"
      ]
     },
     "execution_count": 21,
     "metadata": {},
     "output_type": "execute_result"
    }
   ],
   "source": [
    "clf.fit(data1, data2)"
   ]
  },
  {
   "cell_type": "code",
   "execution_count": 22,
   "metadata": {},
   "outputs": [],
   "source": [
    "importances = clf.feature_importances_"
   ]
  },
  {
   "cell_type": "code",
   "execution_count": 23,
   "metadata": {},
   "outputs": [
    {
     "data": {
      "text/plain": [
       "array([0.06444444, 0.49494949, 0.13333333, 0.30727273])"
      ]
     },
     "execution_count": 23,
     "metadata": {},
     "output_type": "execute_result"
    }
   ],
   "source": [
    "importances"
   ]
  },
  {
   "cell_type": "code",
   "execution_count": null,
   "metadata": {},
   "outputs": [],
   "source": []
  }
 ],
 "metadata": {
  "kernelspec": {
   "display_name": "Python 3",
   "language": "python",
   "name": "python3"
  },
  "language_info": {
   "codemirror_mode": {
    "name": "ipython",
    "version": 3
   },
   "file_extension": ".py",
   "mimetype": "text/x-python",
   "name": "python",
   "nbconvert_exporter": "python",
   "pygments_lexer": "ipython3",
   "version": "3.6.3"
  }
 },
 "nbformat": 4,
 "nbformat_minor": 4
}
